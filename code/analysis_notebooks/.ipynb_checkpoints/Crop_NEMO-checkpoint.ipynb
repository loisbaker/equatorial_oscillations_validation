{
 "cells": [
  {
   "cell_type": "code",
   "execution_count": 1,
   "id": "fa3b565a",
   "metadata": {},
   "outputs": [],
   "source": [
    "import sys\n",
    "sys.path.append('../')\n",
    "import matplotlib.pyplot as plt\n",
    "import numpy as np\n",
    "import xarray as xr\n",
    "from numpy import pi\n",
    "import scipy.io as sio\n",
    "import matplotlib.colors as Colors\n",
    "%matplotlib inline \n",
    "import warnings\n",
    "import numpy.polynomial as poly\n",
    "from tools.transform_tools import *\n",
    "from tools.data_processing_tools import *\n",
    "from tools.theoretical_tools import *\n",
    "warnings.filterwarnings('ignore')\n",
    "\n",
    "plt.rcParams.update({'font.size': 16})\n",
    "plt.rcParams['figure.figsize'] = (20, 10)\n",
    "plt.rcParams['text.usetex'] = False\n",
    "\n",
    "%load_ext autoreload\n",
    "%autoreload 2"
   ]
  },
  {
   "cell_type": "code",
   "execution_count": 25,
   "id": "201d502a",
   "metadata": {},
   "outputs": [],
   "source": [
    "ds  = xr.load_dataset('../../data/NEMO/VN206HF_4h_sozotaux.nc')"
   ]
  },
  {
   "cell_type": "code",
   "execution_count": 29,
   "id": "75174b88",
   "metadata": {},
   "outputs": [],
   "source": [
    "ds.nav_lat[49,:] = 0\n",
    "ds = ds.isel({'y':49})\n",
    "ds.to_netcdf('../../data/NEMO/VN206HF_4h_sozotaux_equator.nc')"
   ]
  },
  {
   "cell_type": "code",
   "execution_count": 30,
   "id": "1a6672e1",
   "metadata": {},
   "outputs": [],
   "source": [
    "ds  = xr.load_dataset('../../data/NEMO/VN206HF_4h_sometauy.nc')\n",
    "ds.nav_lat[49,:] = 0\n",
    "ds = ds.isel({'y':49})\n",
    "ds.to_netcdf('../../data/NEMO/VN206HF_4h_sometauy_equator.nc')"
   ]
  },
  {
   "cell_type": "code",
   "execution_count": null,
   "id": "1de4d761",
   "metadata": {},
   "outputs": [],
   "source": []
  }
 ],
 "metadata": {
  "kernelspec": {
   "display_name": "Python 3 (ipykernel)",
   "language": "python",
   "name": "python3"
  },
  "language_info": {
   "codemirror_mode": {
    "name": "ipython",
    "version": 3
   },
   "file_extension": ".py",
   "mimetype": "text/x-python",
   "name": "python",
   "nbconvert_exporter": "python",
   "pygments_lexer": "ipython3",
   "version": "3.9.6"
  }
 },
 "nbformat": 4,
 "nbformat_minor": 5
}
