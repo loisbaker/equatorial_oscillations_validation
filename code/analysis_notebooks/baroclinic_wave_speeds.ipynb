{
 "cells": [
  {
   "cell_type": "code",
   "execution_count": 2,
   "id": "882e61b0",
   "metadata": {},
   "outputs": [],
   "source": [
    "import sys\n",
    "sys.path.append('../')\n",
    "import matplotlib.pyplot as plt\n",
    "import numpy as np\n",
    "import xarray as xr\n",
    "from numpy import pi\n",
    "import scipy.io as sio\n",
    "import matplotlib.colors as Colors\n",
    "%matplotlib inline \n",
    "import warnings\n",
    "import numpy.polynomial as poly\n",
    "from tools.transform_tools import *\n",
    "from tools.data_processing_tools import *\n",
    "from tools.theoretical_tools import *\n",
    "warnings.filterwarnings('ignore')\n",
    "\n",
    "plt.rcParams.update({'font.size': 16})\n",
    "plt.rcParams['figure.figsize'] = (20, 10)\n",
    "plt.rcParams['text.usetex'] = False\n",
    "\n",
    "%load_ext autoreload\n",
    "%autoreload 2"
   ]
  },
  {
   "cell_type": "code",
   "execution_count": 3,
   "id": "d9780371",
   "metadata": {},
   "outputs": [],
   "source": [
    "# First set up parameters\n",
    "mm = 513; # Number of gridpoints in vertical: should be 2^n + 1\n",
    "mmb = 200; # Galerkin truncation"
   ]
  },
  {
   "cell_type": "code",
   "execution_count": 26,
   "id": "f1a7fbff",
   "metadata": {},
   "outputs": [],
   "source": [
    "# Load in WOCE data. Found here: https://ocw.mit.edu/courses/earth-atmospheric-and-planetary-sciences/12-808-introduction-to-observational-physical-oceanography-fall-2004/lecture-notes/\n",
    "WOCE_data = sio.loadmat('../../data/WOCE/ghc_pr.mat')\n",
    "gamma_mat = WOCE_data['dataG_pr']\n",
    "lon = np.squeeze(WOCE_data['lon'])\n",
    "lat = np.squeeze(WOCE_data['lat'])\n",
    "zfull = -np.squeeze(WOCE_data['press'])"
   ]
  },
  {
   "cell_type": "code",
   "execution_count": 29,
   "id": "e5fb40f9",
   "metadata": {},
   "outputs": [
    {
     "data": {
      "text/plain": [
       "array([[   0],\n",
       "       [  10],\n",
       "       [  20],\n",
       "       [  30],\n",
       "       [  40],\n",
       "       [  50],\n",
       "       [  75],\n",
       "       [ 100],\n",
       "       [ 125],\n",
       "       [ 150],\n",
       "       [ 175],\n",
       "       [ 200],\n",
       "       [ 250],\n",
       "       [ 300],\n",
       "       [ 350],\n",
       "       [ 400],\n",
       "       [ 500],\n",
       "       [ 600],\n",
       "       [ 700],\n",
       "       [ 800],\n",
       "       [ 900],\n",
       "       [1000],\n",
       "       [1100],\n",
       "       [1200],\n",
       "       [1300],\n",
       "       [1400],\n",
       "       [1500],\n",
       "       [1750],\n",
       "       [2000],\n",
       "       [2250],\n",
       "       [2500],\n",
       "       [2750],\n",
       "       [3000],\n",
       "       [3250],\n",
       "       [3500],\n",
       "       [3750],\n",
       "       [4000],\n",
       "       [4250],\n",
       "       [4500],\n",
       "       [4750],\n",
       "       [5000],\n",
       "       [5250],\n",
       "       [5500],\n",
       "       [5750],\n",
       "       [6000]], dtype=uint16)"
      ]
     },
     "execution_count": 29,
     "metadata": {},
     "output_type": "execute_result"
    }
   ],
   "source": [
    "zfull = -WOCE_data['press']"
   ]
  },
  {
   "cell_type": "code",
   "execution_count": 19,
   "id": "12ba6269",
   "metadata": {},
   "outputs": [],
   "source": [
    "c1 = np.zeros((lat.shape[0], lon.shape[0]))*np.nan\n",
    "c2 = np.zeros((lat.shape[0], lon.shape[0]))*np.nan\n",
    "grav = 9.8;\n",
    "# for ilat in range(lat.shape[0]):\n",
    "#     for ilon in range(lon.shape[0]):\n",
    "for ilat in range(81,82):\n",
    "    for ilon in range(130,131):\n",
    "        # calculate stratification\n",
    "        nz = zfull.shape[0]\n",
    "        Nsqr = np.ones_like(zfull)*np.nan\n",
    "        gamma = gamma_mat[ilat,ilon,:]\n",
    "        \n",
    "        for iz in range(1,nz-1):\n",
    "            Nsqr[iz] = -grav/1028*(gamma[iz+1] - gamma[iz-1])/(zfull[iz+1] - zfull[iz-1]);\n",
    "           \n",
    "        # Now we need to set onto it's own grid     \n",
    "        Nsqr[0] = Nsqr[1]\n",
    "        \n",
    "        # Find the bottom point\n",
    "        ibot = np.sum(~np.isnan(gamma));\n",
    "        \n",
    "        # Check this really is the bottom\n",
    "        if (ibot >10) & (np.sum(np.isnan(Nsqr[:ibot])) <= 1) & ~np.isnan(gamma[ibot]):\n",
    "            Nsqr[ibot] = Nsqr[ibot-1]\n",
    "            Nsqr[ibot+1] = Nsqr[ibot-1]\n",
    "            H = -zfull[ibot]\n",
    "            z = np.linspace(-H,0,mm)\n",
    "            Nsqrfit = np.interp(z, zfull[:ibot], Nsqr[:ibot])\n",
    "\n",
    "            #c = galerkin_bc_sol(z,Nsqrfit,mmb)\n",
    "            #c1[ilat,ilon] = c[0]\n",
    "            #c2[ilat,ilon] = c[1]\n"
   ]
  },
  {
   "cell_type": "code",
   "execution_count": 20,
   "id": "fce5ee92",
   "metadata": {},
   "outputs": [
    {
     "data": {
      "text/plain": [
       "30"
      ]
     },
     "execution_count": 20,
     "metadata": {},
     "output_type": "execute_result"
    }
   ],
   "source": [
    "ibot"
   ]
  },
  {
   "cell_type": "code",
   "execution_count": 22,
   "id": "98191ee1",
   "metadata": {},
   "outputs": [
    {
     "data": {
      "text/plain": [
       "array([    0, 65526, 65516, 65506, 65496, 65486, 65461, 65436, 65411,\n",
       "       65386, 65361, 65336, 65286, 65236, 65186, 65136, 65036, 64936,\n",
       "       64836, 64736, 64636, 64536, 64436, 64336, 64236, 64136, 64036,\n",
       "       63786, 63536, 63286, 63036, 62786, 62536, 62286, 62036, 61786,\n",
       "       61536, 61286, 61036, 60786, 60536, 60286, 60036, 59786, 59536],\n",
       "      dtype=uint16)"
      ]
     },
     "execution_count": 22,
     "metadata": {},
     "output_type": "execute_result"
    }
   ],
   "source": [
    "zfull"
   ]
  },
  {
   "cell_type": "code",
   "execution_count": null,
   "id": "b8e0fd55",
   "metadata": {},
   "outputs": [],
   "source": [
    "function [psmd,c] = galerkin_bc_sol(z,Nsqr,mmb)\n",
    "% \n",
    "% Use this code from Baker & Sutherland 2020\n",
    "% This solves for k and the vertical modes from the equation psi'' +\n",
    "% k^2(N^2 - omega^2)/(omega^2 - f^2) psi = 0. So, if we set omega = 0, and\n",
    "% f^2 = -1, then our eigenvalues should be c^2 = k^{-2}. \n",
    "\n",
    "freq = 0; % no tides!\n",
    "\n",
    "% Get vert. structure of vertical displacement of modes in non-unif. strat.\n",
    "%     Nsqr: background N^2(z) profile\n",
    "%     freq: frequency of mode given\n",
    "%     kx: horizontal wavenumber of wave to find\n",
    "%\n",
    "%     \n",
    "  mm = length(z);\n",
    "  nfft = mm-1;\n",
    "  fcnsqr = cosft(Nsqr); \n",
    "  fcnsqr(1) = fcnsqr(1)/nfft; \n",
    "  fcnsqr(2:nfft) = fcnsqr(2:nfft)*(2/nfft); % This and above line is the normalisation step\n",
    "  kz0 = pi/(z(nfft+1)-z(1));\n",
    "  mb = linspace(0,0,mmb);\n",
    "  for i=1:mmb\n",
    "    mb(i) = i*kz0; % creating vector of vertical wavenumbers, size = truncation limit mmb\n",
    "  end\n",
    "\n",
    "  b = zeros(mmb,mmb);\n",
    "  for m=1:mmb\n",
    "  for n=1:mmb\n",
    "    if n==m \n",
    "       b(n,m) = fcnsqr(1) - freq^2;\n",
    "    elseif n>m\n",
    "       b(n,m) = 0.5*fcnsqr(n-m+1);\n",
    "    else   % n<m\n",
    "       b(n,m) = 0.5*fcnsqr(m-n+1);\n",
    "    end \n",
    "\n",
    "    if (n+m)<nfft \n",
    "       b(n,m) = b(n,m) - 0.5*fcnsqr(n+m+1); % This term comes from the sin(A-B) when B > A\n",
    "    end\n",
    "\n",
    "    %b(n,m) =  b(n,m)/(mb(n)*mb(n))/(freq^2 - f0^2);\n",
    "    b(n,m) =  b(n,m)/(mb(n)*mb(n)); % make the denominator 1\n",
    "    \n",
    "  end\n",
    "  end\n",
    "\n",
    "[V,D] = eig(b);\n",
    "[evls,ind] = sort(diag(D),'descend'); % Only get mode 1 here if N^2 > f^2 (N^2 constant case)\n",
    "Vs = V(:,ind);\n",
    "\n",
    "%kx = 1/sqrt(evls(1));\n",
    "c = sqrt(evls); % we want to find all of the baroclinic speeds\n",
    "fspsi = Vs;\n",
    "\n",
    "% Reconstruction of mode from eigenfunction:\n",
    "psmn = zeros(mmb,1);\n",
    "psmx = zeros(mmb,1);\n",
    "psmd = zeros(mmb,nfft);\n",
    "for mdnum = 1:mmb\n",
    "    for m=1:nfft % Loops over z\n",
    "      psmd(mdnum,m) = 0.0;\n",
    "      for n=1:mmb-1 % Loops over m (vertical wavenumber)\n",
    "        psmd(mdnum,m) = psmd(mdnum,m) + fspsi(n,mdnum)*sin(mb(n)*(z(m)-z(1))); % Automatically sets psmd(1) = 0\n",
    "      end\n",
    "      psmn(mdnum) = min(psmn(mdnum),psmd(mdnum,m)); %Updates min and max at each z loop\n",
    "      psmx(mdnum) = max(psmx(mdnum),psmd(mdnum,m));\n",
    "    end\n",
    "    psmd(mdnum,mm)=0.0; %last entry, applies BC analytically\n",
    "\n",
    "    if (abs(psmn(mdnum))>psmx(mdnum))\n",
    "      norm = psmn(mdnum); % norm < 0 here\n",
    "    else\n",
    "      norm = psmx(mdnum);\n",
    "    end\n",
    "\n",
    "    for m=1:nfft\n",
    "       psmd(mdnum,m) = psmd(mdnum,m)/norm; % normalise max abs value to 1\n",
    "    end\n",
    "end\n",
    "\n",
    "\n",
    "end\n",
    "\n"
   ]
  }
 ],
 "metadata": {
  "kernelspec": {
   "display_name": "Python 3 (ipykernel)",
   "language": "python",
   "name": "python3"
  },
  "language_info": {
   "codemirror_mode": {
    "name": "ipython",
    "version": 3
   },
   "file_extension": ".py",
   "mimetype": "text/x-python",
   "name": "python",
   "nbconvert_exporter": "python",
   "pygments_lexer": "ipython3",
   "version": "3.9.6"
  }
 },
 "nbformat": 4,
 "nbformat_minor": 5
}
