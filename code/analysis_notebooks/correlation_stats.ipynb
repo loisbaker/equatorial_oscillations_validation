{
 "cells": [
  {
   "cell_type": "markdown",
   "id": "4999a4e1",
   "metadata": {},
   "source": [
    "## Calculate correlation between NEMO and TAO zonal averages"
   ]
  },
  {
   "cell_type": "code",
   "execution_count": 2,
   "id": "f3a97a09",
   "metadata": {
    "scrolled": true
   },
   "outputs": [],
   "source": [
    "import sys\n",
    "sys.path.append('../')\n",
    "import matplotlib.pyplot as plt\n",
    "import numpy as np\n",
    "import xarray as xr\n",
    "from numpy import pi\n",
    "import scipy.io as sio\n",
    "import matplotlib.colors as Colors\n",
    "%matplotlib inline \n",
    "import warnings\n",
    "import numpy.polynomial as poly\n",
    "from tools.transform_tools import *\n",
    "from tools.data_processing_tools import *\n",
    "from tools.theoretical_tools import *\n",
    "warnings.filterwarnings('ignore')\n",
    "\n",
    "plt.rcParams.update({'font.size': 16})\n",
    "plt.rcParams['figure.figsize'] = (10, 5)\n",
    "plt.rcParams['text.usetex'] = False\n",
    "\n",
    "%load_ext autoreload\n",
    "%autoreload 2"
   ]
  },
  {
   "cell_type": "code",
   "execution_count": 13,
   "id": "5056b8f6",
   "metadata": {},
   "outputs": [],
   "source": [
    "# ---------------- load in TAO and NEMO data -----------------\n",
    "\n",
    "# Load in TAO dynamic height data \n",
    "t_TAO, lat_TAO, lon_TAO, lon_TAO_midpoints, D_TAO, ds_TAO = load_TAO(NEMO_year=True)\n",
    "\n",
    "\n",
    "# Load in all NEMO data, sampled to TAO locations, at the equator\n",
    "t, lat_NEMO, lon_NEMO, D_NEMO, ds_NEMO= load_NEMO(daily_mean=True,lats=lat_TAO,lons=lon_TAO, winds=False)\n",
    "\n",
    "# Remove datapoints in dynamic height and wind stress where TAO data is missing\n",
    "D_NEMO = np.where(np.isnan(D_TAO),np.nan,D_NEMO)"
   ]
  },
  {
   "cell_type": "code",
   "execution_count": 19,
   "id": "b4b4c81a",
   "metadata": {},
   "outputs": [],
   "source": [
    "# Two stage high pass filter, then zonal average of dynamic height. First pass at 20 days\n",
    "smooth_N = 21 # Rolling mean window length for first high pass\n",
    "NSR = 35 # Noise to signal ratio\n",
    "cutoff = 20 # Cutoff period in days for low pass filter\n",
    "\n",
    "# First remove a rolling mean of length smooth_N\n",
    "D_NEMO_hf1 = D_NEMO - smooth(D_NEMO,smooth_N)\n",
    "D_TAO_hf1 = D_TAO - smooth(D_TAO,smooth_N)\n",
    "\n",
    "\n",
    "# Then fit temporal modes to this and cutoff at 20 days to give a low pass filter\n",
    "D_NEMO_lf = least_squares_spectrum_t_multi(D_NEMO_hf1, t, NSR=NSR, reconstruct_min_period = cutoff)[2]\n",
    "D_NEMO_hf = D_NEMO_hf1 - D_NEMO_lf\n",
    "D_NEMO_hf -= np.nanmean(D_NEMO_hf,axis=0)\n",
    "\n",
    "D_TAO_lf = least_squares_spectrum_t_multi(D_TAO_hf1, t, NSR=NSR, reconstruct_min_period = cutoff)[2]\n",
    "D_TAO_hf = D_TAO_hf1 - D_TAO_lf\n",
    "D_TAO_hf -= np.nanmean(D_TAO_hf,axis=0)\n",
    "\n",
    "# Zonally average\n",
    "D_NEMO_hf_za = np.nanmean(D_NEMO_hf,axis=2)\n",
    "D_TAO_hf_za = np.nanmean(D_TAO_hf,axis=2)"
   ]
  },
  {
   "cell_type": "code",
   "execution_count": 31,
   "id": "4361044c",
   "metadata": {},
   "outputs": [],
   "source": [
    "corr_20day = np.zeros_like(lat_TAO)\n",
    "for i in range(corr_20day.shape[0]):\n",
    "    corr_20day[i] = np.corrcoef(D_NEMO_hf_za[:,i], D_TAO_hf_za[:,i])[0,1]"
   ]
  },
  {
   "cell_type": "code",
   "execution_count": 38,
   "id": "ec04eb49",
   "metadata": {},
   "outputs": [],
   "source": [
    "# Two stage high pass filter, then zonal average of dynamic height. Now pass at 50 days\n",
    "smooth_N = 51 # Rolling mean window length for first high pass\n",
    "NSR = 35 # Noise to signal ratio\n",
    "cutoff = 50 # Cutoff period in days for low pass filter\n",
    "\n",
    "# First remove a rolling mean of length smooth_N\n",
    "D_NEMO_hf1 = D_NEMO - smooth(D_NEMO,smooth_N)\n",
    "D_TAO_hf1 = D_TAO - smooth(D_TAO,smooth_N)\n",
    "\n",
    "\n",
    "# Then fit temporal modes to this and cutoff at 20 days to give a low pass filter\n",
    "D_NEMO_lf = least_squares_spectrum_t_multi(D_NEMO_hf1, t, NSR=NSR, reconstruct_min_period = cutoff)[2]\n",
    "D_NEMO_hf = D_NEMO_hf1 - D_NEMO_lf\n",
    "D_NEMO_hf -= np.nanmean(D_NEMO_hf,axis=0)\n",
    "\n",
    "D_TAO_lf = least_squares_spectrum_t_multi(D_TAO_hf1, t, NSR=NSR, reconstruct_min_period = cutoff)[2]\n",
    "D_TAO_hf = D_TAO_hf1 - D_TAO_lf\n",
    "D_TAO_hf -= np.nanmean(D_TAO_hf,axis=0)\n",
    "\n",
    "# Zonally average\n",
    "D_NEMO_hf_za = np.nanmean(D_NEMO_hf,axis=2)\n",
    "D_TAO_hf_za = np.nanmean(D_TAO_hf,axis=2)"
   ]
  },
  {
   "cell_type": "code",
   "execution_count": 39,
   "id": "91365654",
   "metadata": {},
   "outputs": [],
   "source": [
    "corr_50day = np.zeros_like(lat_TAO)\n",
    "for i in range(corr_50day.shape[0]):\n",
    "    corr_50day[i] = np.corrcoef(D_NEMO_hf_za[:,i], D_TAO_hf_za[:,i])[0,1]"
   ]
  },
  {
   "cell_type": "code",
   "execution_count": 42,
   "id": "f7695880",
   "metadata": {},
   "outputs": [],
   "source": [
    "# Two stage high pass filter, then zonal average of dynamic height. Now pass at 50 days\n",
    "smooth_N = 101 # Rolling mean window length for first high pass\n",
    "NSR = 35 # Noise to signal ratio\n",
    "cutoff = 100 # Cutoff period in days for low pass filter\n",
    "\n",
    "# First remove a rolling mean of length smooth_N\n",
    "D_NEMO_hf1 = D_NEMO - smooth(D_NEMO,smooth_N)\n",
    "D_TAO_hf1 = D_TAO - smooth(D_TAO,smooth_N)\n",
    "\n",
    "\n",
    "# Then fit temporal modes to this and cutoff at 20 days to give a low pass filter\n",
    "D_NEMO_lf = least_squares_spectrum_t_multi(D_NEMO_hf1, t, NSR=NSR, reconstruct_min_period = cutoff)[2]\n",
    "D_NEMO_hf = D_NEMO_hf1 - D_NEMO_lf\n",
    "D_NEMO_hf -= np.nanmean(D_NEMO_hf,axis=0)\n",
    "\n",
    "D_TAO_lf = least_squares_spectrum_t_multi(D_TAO_hf1, t, NSR=NSR, reconstruct_min_period = cutoff)[2]\n",
    "D_TAO_hf = D_TAO_hf1 - D_TAO_lf\n",
    "D_TAO_hf -= np.nanmean(D_TAO_hf,axis=0)\n",
    "\n",
    "# Zonally average\n",
    "D_NEMO_hf_za = np.nanmean(D_NEMO_hf,axis=2)\n",
    "D_TAO_hf_za = np.nanmean(D_TAO_hf,axis=2)"
   ]
  },
  {
   "cell_type": "code",
   "execution_count": 43,
   "id": "c7789b03",
   "metadata": {},
   "outputs": [],
   "source": [
    "corr_100day = np.zeros_like(lat_TAO)\n",
    "for i in range(corr_100day.shape[0]):\n",
    "    corr_100day[i] = np.corrcoef(D_NEMO_hf_za[:,i], D_TAO_hf_za[:,i])[0,1]"
   ]
  },
  {
   "cell_type": "code",
   "execution_count": null,
   "id": "7b681112",
   "metadata": {},
   "outputs": [],
   "source": []
  }
 ],
 "metadata": {
  "kernelspec": {
   "display_name": "Python 3 (ipykernel)",
   "language": "python",
   "name": "python3"
  },
  "language_info": {
   "codemirror_mode": {
    "name": "ipython",
    "version": 3
   },
   "file_extension": ".py",
   "mimetype": "text/x-python",
   "name": "python",
   "nbconvert_exporter": "python",
   "pygments_lexer": "ipython3",
   "version": "3.9.7"
  }
 },
 "nbformat": 4,
 "nbformat_minor": 5
}
